{
 "cells": [
  {
   "cell_type": "code",
   "execution_count": null,
   "id": "b222963d-ef8e-4050-b8bb-373072bc061e",
   "metadata": {},
   "outputs": [],
   "source": [
    "pip install opencv-python\n"
   ]
  },
  {
   "cell_type": "code",
   "execution_count": null,
   "id": "a9c89fc2-5c0e-48ba-93cc-6b7e0db1bd5b",
   "metadata": {},
   "outputs": [],
   "source": [
    "pip install tensorflow keras"
   ]
  },
  {
   "cell_type": "code",
   "execution_count": null,
   "id": "bc32cf98-b0f0-4a39-8dda-31d5753be1b4",
   "metadata": {},
   "outputs": [],
   "source": [
    "pip install deepface"
   ]
  },
  {
   "cell_type": "code",
   "execution_count": null,
   "id": "4d3d058d-0638-4ed8-870c-1e3f4c7498f9",
   "metadata": {},
   "outputs": [],
   "source": [
    "pip install tf-keras //formaking\n"
   ]
  },
  {
   "cell_type": "code",
   "execution_count": null,
   "id": "b23f6115-e98e-404d-ac90-e28e22ae229f",
   "metadata": {},
   "outputs": [],
   "source": [
    "pip install pygame"
   ]
  },
  {
   "cell_type": "code",
   "execution_count": null,
   "id": "0f6b7de2-bb57-42a8-bb37-bbfe0f42e1fe",
   "metadata": {},
   "outputs": [],
   "source": [
    "pip install opencv-python"
   ]
  },
  {
   "cell_type": "code",
   "execution_count": null,
   "id": "28542d41-5889-4900-a188-c05913539925",
   "metadata": {},
   "outputs": [],
   "source": [
    "pip install numpy"
   ]
  },
  {
   "cell_type": "code",
   "execution_count": null,
   "id": "c4bbd926-eff6-4eb1-b7eb-bb6f3e173cf8",
   "metadata": {},
   "outputs": [],
   "source": [
    "pip install dlib"
   ]
  },
  {
   "cell_type": "code",
   "execution_count": null,
   "id": "0a58bf52-5ce6-4bd1-a51e-3a6ca957b0e0",
   "metadata": {},
   "outputs": [],
   "source": [
    "pip install face_recognition"
   ]
  }
 ],
 "metadata": {
  "kernelspec": {
   "display_name": "Python [conda env:base] *",
   "language": "python",
   "name": "conda-base-py"
  },
  "language_info": {
   "codemirror_mode": {
    "name": "ipython",
    "version": 3
   },
   "file_extension": ".py",
   "mimetype": "text/x-python",
   "name": "python",
   "nbconvert_exporter": "python",
   "pygments_lexer": "ipython3",
   "version": "3.12.7"
  }
 },
 "nbformat": 4,
 "nbformat_minor": 5
}
